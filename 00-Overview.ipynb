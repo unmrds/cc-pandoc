{
 "cells": [
  {
   "cell_type": "markdown",
   "metadata": {},
   "source": [
    "# Overview of Workshop Content\n",
    "\n",
    "The workshop will cover three primary topics, with an additional collection of information for further exploration and experimentation. The three primary topics are covered in the following notebooks:\n",
    "\n",
    "* [Introduction](00-Instructor/01-HelloWorld/01%20-%20Introduction%20to%20Pandoc.ipynb)\n",
    "* [Syntax Overview](00-Instructor/02-Syntax/02%20-%20Pandoc%20Mardown%20Syntax.ipynb)\n",
    "* [Document Generation Syntax](00-Instructor/03-Outputs/03%20-%20Generating%20Output.ipynb)\n",
    "* [Practice](00-Instructor/04-Practice/04%20-%20Practice%20with%20Document%20Production%20and%20Processing.ipynb)"
   ]
  },
  {
   "cell_type": "code",
   "execution_count": null,
   "metadata": {
    "collapsed": true
   },
   "outputs": [],
   "source": []
  }
 ],
 "metadata": {
  "kernelspec": {
   "display_name": "Python 3",
   "language": "python",
   "name": "python3"
  },
  "language_info": {
   "codemirror_mode": {
    "name": "ipython",
    "version": 3
   },
   "file_extension": ".py",
   "mimetype": "text/x-python",
   "name": "python",
   "nbconvert_exporter": "python",
   "pygments_lexer": "ipython3",
   "version": "3.5.2"
  }
 },
 "nbformat": 4,
 "nbformat_minor": 1
}
