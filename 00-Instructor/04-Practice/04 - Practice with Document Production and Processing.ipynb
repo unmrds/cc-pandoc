{
 "cells": [
  {
   "cell_type": "markdown",
   "metadata": {},
   "source": [
    "# Hands-on Work with Document Production and Pandoc Processing\n",
    "\n",
    "In this module we will have a chance to use the knowledge gained in the previous three sections to experiment with the production of document files that can be processed by Pandoc to generate multiple output formats. \n",
    "\n",
    "## Workflow\n",
    "\n",
    "The general workflow when using Pandoc to generate final documents is to:\n",
    "\n",
    "1. Develop your content in an ASCII text (source) file using your editor of choice - using simple [Markdown](https://daringfireball.net/projects/markdown/syntax) as it was originally developed by John Gruber for use in streamlining his web content workflow - or the expanded variant supported by [Pandoc](http://pandoc.org/MANUAL.html) for producing much more rich content. \n",
    "\n",
    "2. Process the source file using the Pandoc processor to generate one or more target output formats to see what it looks like.\n",
    "\n",
    "3. Repeat ...\n",
    "\n",
    "So, let's go through each of these steps and see how it works."
   ]
  },
  {
   "cell_type": "code",
   "execution_count": null,
   "metadata": {
    "collapsed": true
   },
   "outputs": [],
   "source": []
  },
  {
   "cell_type": "markdown",
   "metadata": {},
   "source": [
    "## Step 1 - Create your source file\n",
    "\n",
    "As we described in the introduction, you can start with a very simple markdown file and build upon it. We showed a simple [`helloWorld.md`](http://compute.karlbenedict.com:8888/edit/00-Instructor/01-HelloWorld/helloWorld.md) file that looked like this:\n",
    "\n",
    "    % My title\n",
    "    % Author\n",
    "    % Some date\n",
    "    \n",
    "    # Heading 1\n",
    "\n",
    "    Hello World - this is as simple as it gets ...\n",
    "\n",
    "While this is pretty simple, we can get even more so. The metadata at the top of the document is optional, and you can jump right in and start creating your content before you even add any metadata:\n",
    "\n",
    "    # Heading 1\n",
    "\n",
    "    Hello World - this is as simple as it gets ...\n",
    "\n",
    "### Hands-on - Produce a Source Document\n",
    "\n",
    "* Go ahead and copy these three lines of text (this includes the blank line between the heading and the Hello World line).\n",
    "\n",
    "* Create a new markdown file of your very own by:\n",
    "\n",
    "    1. Going to our [practice folder](http://compute.karlbenedict.com:8888/tree/00-Instructor/04-Practice#) on the server\n",
    "    2. Create a new empty text file in the folder by selecting \"Text File\" under the \"New\" menu in the upper right corner of the window.    \n",
    "![Create a new file](createTextFile.png)\n",
    "    3. Rename the file by clicking on the document name in the header and giving the file an name that is likely to be unique to you - and memorable.    \n",
    "![Rename file](renameFile.png)\n",
    "    4. Paste your copied text into the empty text file you have created and renamed\n",
    "![Pasted text](pastedText.png)\n",
    "    5. Your changes are regularly saved, but you can explicitly do so by clicking the 'Save' option under the file menu in the notebook. \n",
    "\n",
    "* Add your own content to the document - experimenting with the various markdown options provided in the [syntax overview](http://compute.karlbenedict.com:8888/notebooks/00-Instructor/02-Syntax/02%20-%20Pandoc%20Mardown%20Syntax.ipynb)\n",
    "\n",
    "### Hands-on - Process Your Source Document\n",
    "\n",
    "To process your source document you need to run the `pandoc` command from the command line. the process we will go through here takes advantage of the command line interface provided by our notebook platform. While this is not a fully-functional command line like you might have on your own workstation, it works for our purposes here for illustrating the output generation process. \n",
    "\n",
    "* Go to our [practice folder](http://compute.karlbenedict.com:8888/tree/00-Instructor/04-Practice#) on the server\n",
    "* Open up a terminal window by selecting \"Terminal\" from under the \"New Menu\" in the upper right corner of the window.\n",
    "![Terminal window open](newTerminal.png)\n",
    "* In the terminal window change to the directory containing your file by typing `cd 00-Instructor/04-Practice/` at the command prompt. After doing that your command prompt should look like this:\n",
    "![Command prompt](commandPrompt.png)\n",
    "* Once here you can start experimenting with different Pandoc processing commands to generate different output files using the [document generation syntax](http://compute.karlbenedict.com:8888/notebooks/00-Instructor/03-Outputs/03%20-%20Generating%20Output.ipynb) that we discussed previously\n",
    "\n",
    "for example:\n",
    "\n",
    "    pandoc -o kb_test01.docx kb_test01.md\n",
    "\n",
    "    pandoc -o kb_test01.pdf kb_test01.md\n",
    "\n",
    "    pandoc -o kb_test01.html kb_test01.md\n",
    "\n",
    "* Go back to our [practice folder](http://compute.karlbenedict.com:8888/tree/00-Instructor/04-Practice#) on the server and download the files you generated and take a look at the output. \n",
    "\n",
    "### Expand on your source document and repeat this process to see what you get\n",
    "\n",
    "* Add some simple metadata - where does your metadata show up in the different document formats that you generate?\n",
    "* How can you use your outline structure to generate an HTML or PDF slide-deck?\n",
    "* How do the different list and heading structures show up in the different output formats?\n",
    "* How can you use an existing Word document as a template for creating a customized Word document output file?\n",
    "\n",
    "### Free Play & Experimentation\n"
   ]
  },
  {
   "cell_type": "code",
   "execution_count": null,
   "metadata": {
    "collapsed": true
   },
   "outputs": [],
   "source": []
  }
 ],
 "metadata": {
  "kernelspec": {
   "display_name": "Python 3",
   "language": "python",
   "name": "python3"
  },
  "language_info": {
   "codemirror_mode": {
    "name": "ipython",
    "version": 3
   },
   "file_extension": ".py",
   "mimetype": "text/x-python",
   "name": "python",
   "nbconvert_exporter": "python",
   "pygments_lexer": "ipython3",
   "version": "3.5.2"
  }
 },
 "nbformat": 4,
 "nbformat_minor": 1
}
