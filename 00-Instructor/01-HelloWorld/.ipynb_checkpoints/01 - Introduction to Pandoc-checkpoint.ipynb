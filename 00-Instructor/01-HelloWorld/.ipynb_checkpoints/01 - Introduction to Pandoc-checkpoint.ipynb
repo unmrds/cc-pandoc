{
 "cells": [
  {
   "cell_type": "markdown",
   "metadata": {},
   "source": [
    "# Introduction\n",
    "\n",
    "Pandoc (http://pandoc.org) is a document processing program that runs on multiple operating systems (Mac, Windows, Linux) and can read and write a wide variety of file formats. In may respects Pandoc can be though of as a *universal translator* for documents. As shown in the following figure there are many formats supported for input and output by Pandoc. IN this workshop we will focus on a specific subset of input and output document types while remembering that we are just scratching the surface of the transformations we can perform with Pandoc. \n",
    "\n",
    "<a href=\"http://pandoc.org/index.html\"><img src=\"diagram.jpg\" style=\"width:50%\" /></a>\n",
    "\n",
    "In particular, we will focus on converting documents written in Pandoc's extended version of Markdown (originally developed by John Gruber as an simple ASCII text syntax for writing blog posts - https://daringfireball.net/projects/markdown/) into some useful output formats including:\n",
    "\n",
    "* HTML Pages\n",
    "* HTML-based presentation slide decks\n",
    "* PDF documents (including memos, letters, reports, manuscripts, presentation slides, and poster presentations)\n",
    "* Word documents (DOCX)\n",
    "\n",
    "The bottom line is that Pandoc provides a useful tool that provides a number of significant benefits including:\n",
    "\n",
    "* Allowing for a clear separation between *content development* from *styling and presentation* of that content. \n",
    "* A simple text-based working file format that can be created in any text editor\n",
    "* A source format that integrates very well into version control systems for collaborative development\n",
    "* A toolchain that is supported in all major operating systems, providing platform independent document generation\n",
    "* A simple command syntax that can be used to automate document generation processes for simple replication of document workflow\n",
    "* A model for developing customized document templates for output formats that allows for a high degree of customization and consistency\n",
    "* The use of a powerful page layout system (LaTeX - http://www.latex-project.org/about/) that is broadly used to generate high-quality print format documents. "
   ]
  },
  {
   "cell_type": "markdown",
   "metadata": {},
   "source": [
    "---\n",
    "# Installing Pandoc on Your Computer\n",
    "\n",
    "Pandoc is available for installation on Mac, Windows and Linux. While basic Pandoc functionality is provided by the Pandoc itself, the PDF generation capabilities use the LaTeX system. For a really useful system you will want to install both. The installation page for Pandoc provides links and guidance for installing both Pandoc and LaTeX on all supported operating systems.\n",
    "\n",
    "http://pandoc.org/installing.html"
   ]
  },
  {
   "cell_type": "markdown",
   "metadata": {},
   "source": [
    "---\n",
    "# Some sample documents"
   ]
  },
  {
   "cell_type": "markdown",
   "metadata": {},
   "source": [
    "## A simple `hello world` of documents\n",
    "\n",
    "Markdown document: http://localhost:8888/edit/PandocTraining/00-Instructor/01-HelloWorld/helloWorld.md\n",
    "\n",
    "```\n",
    "% My title\n",
    "% Author\n",
    "% Some date\n",
    "    \n",
    "# Heading 1\n",
    "\n",
    "Hello World - this is as simple as it gets ...\n",
    "```\n",
    "\n",
    "Commands to generate different representations of this document:\n",
    "\n",
    "    pandoc -o helloWorld.pdf helloWorld.md\n",
    "    pandoc -o helloWorld.docx helloWorld.md\n",
    "    pandoc -o helloWorld.html helloWorld.md\n",
    "\n",
    "Try it yourself by running (ctrl-enter) the following set of commands"
   ]
  },
  {
   "cell_type": "code",
   "execution_count": 10,
   "metadata": {
    "collapsed": false
   },
   "outputs": [],
   "source": [
    "%%bash\n",
    "pandoc -o helloWorld.pdf helloWorld.md\n",
    "pandoc -o helloWorld.docx helloWorld.md\n",
    "pandoc -o helloWorld.html helloWorld.md"
   ]
  },
  {
   "cell_type": "markdown",
   "metadata": {},
   "source": [
    "Let's take a look at the generated documents:\n",
    "\n",
    "* [PDF file](/files/PandocTraining/00-Instructor/01-HelloWorld/helloWorld.pdf)\n",
    "* [Word Document](/files/PandocTraining/00-Instructor/01-HelloWorld/helloWorld.docx)\n",
    "* [HTML File](/files/PandocTraining/00-Instructor/01-HelloWorld/helloWorld.html)"
   ]
  },
  {
   "cell_type": "markdown",
   "metadata": {},
   "source": [
    "## Templated & Styled Content\n",
    "\n",
    "[Markdown document](/edit/PandocTraining/00-Instructor/01-HelloWorld/templates.md)\n",
    "\n",
    "```\n",
    "% My title\n",
    "% My name\n",
    "% Today\n",
    "\n",
    "---\n",
    "recipientSalutation: Recipient Salutation\n",
    "recipientName: Recipient Name\n",
    "recipientTitle: Recipient Title\n",
    "recipientAddress: Recipient Address\n",
    "...\n",
    "\n",
    "Biltong qui pancetta ball tip turkey eiusmod, tongue bresaola ham dolore. Tempor eiusmod ground round pork strip steak sirloin tongue. Magna cillum consequat, minim do tenderloin in porchetta ham officia qui. Picanha swine minim, ham hock boudin aliqua nisi ball tip aliquip deserunt ribeye in est burgdoggen voluptate. Cupim velit landjaeger nisi flank exercitation sunt laboris dolore.\n",
    "\n",
    "```\n",
    "\n",
    "PDF Generation Commands:\n",
    "\n",
    "    pandoc -o templates.pdf templates.md\n",
    "    pandoc -o templates.pdf --template \"main.tex\" templates.md\n",
    "\n",
    "Word Document Generation Commands: (limited to styling - rest of template characteristics can't currently be set)\n",
    "\n",
    "    pandoc -o templates.docx templates.md\n",
    "    pandoc -o templates.docx --reference-docx \"docxTemplate.docx\" templates.md\n",
    "    \n",
    "HTML File Generation Commands: \n",
    "\n",
    "    pandoc -o templates.html templates.md\n",
    "    pandoc -o templatesTemplated.html --template \"ulPage.html\" templates.md\n",
    "    pandoc -o templatesStyled.html -css page.css templates.md"
   ]
  },
  {
   "cell_type": "code",
   "execution_count": 58,
   "metadata": {
    "collapsed": false
   },
   "outputs": [],
   "source": [
    "%%bash\n",
    "pandoc -o templates.pdf templates.md\n",
    "pandoc -o templatesTemplated.pdf --template=\"formal_letter_4.tex\" templates.md"
   ]
  },
  {
   "cell_type": "markdown",
   "metadata": {},
   "source": [
    "Generated Files:\n",
    "\n",
    "* [Untemplated PDF File](/files/PandocTraining/00-Instructor/01-HelloWorld/templates.pdf)\n",
    "* [Templated PDF File](/files/PandocTraining/00-Instructor/01-HelloWorld/templatesTemplated.pdf)"
   ]
  },
  {
   "cell_type": "code",
   "execution_count": 61,
   "metadata": {
    "collapsed": true
   },
   "outputs": [],
   "source": [
    "%%bash\n",
    "pandoc -o templates.docx templates.md\n",
    "pandoc -o templatesTemplated.docx --reference-docx \"docxTemplate.docx\" templates.md"
   ]
  },
  {
   "cell_type": "markdown",
   "metadata": {},
   "source": [
    "Generated Files:\n",
    "\n",
    "* [Untemplated DOCX File](/files/PandocTraining/00-Instructor/01-HelloWorld/templates.docx)\n",
    "* [Templated DOCX File](/files/PandocTraining/00-Instructor/01-HelloWorld/templatesTemplated.docx)"
   ]
  },
  {
   "cell_type": "code",
   "execution_count": 65,
   "metadata": {
    "collapsed": false
   },
   "outputs": [],
   "source": [
    "%%bash\n",
    "pandoc -o templates.html templates.md\n",
    "pandoc -o templatesTemplated.html --template \"ulPage.html\" templates.md\n",
    "pandoc -o templatesStyled.html --css=page.css -s templates.md"
   ]
  },
  {
   "cell_type": "markdown",
   "metadata": {},
   "source": [
    "Generated Files:\n",
    "\n",
    "* [Untemplated HTML file](/files/PandocTraining/00-Instructor/01-HelloWorld/templates.html)\n",
    "* [Templated HTML file](/files/PandocTraining/00-Instructor/01-HelloWorld/templatesTemplated.html)\n",
    "* [Styled HTML file](/files/PandocTraining/00-Instructor/01-HelloWorld/templatesStyled.html)"
   ]
  },
  {
   "cell_type": "markdown",
   "metadata": {},
   "source": [
    "---\n",
    "## Some Actual Documents\n",
    "\n",
    "### A Class Syllabus\n",
    "\n",
    "[The source markdown file](/edit/PandocTraining/00-Instructor/01-HelloWorld/OILS515_syllabus.md)\n",
    "\n",
    "The commands to generate multiple representations of the syllabus:\n",
    "\n",
    "    pandoc --standalone --toc --latex-engine=pdflatex  -V geometry:margin=1in -V fontsize:11pt -o OILS515_syllabus.pdf OILS515_syllabus.md\n",
    "    \n",
    "    pandoc --toc -s --standalone --css=page2.css -o OILS515_syllabus.html OILS515_syllabus.md\n",
    "    \n",
    "    pandoc -s -o OILS515_syllabus.epub OILS515_syllabus.md"
   ]
  },
  {
   "cell_type": "code",
   "execution_count": 76,
   "metadata": {
    "collapsed": false
   },
   "outputs": [],
   "source": [
    "%%bash\n",
    "pandoc --standalone --toc --latex-engine=pdflatex  -V geometry:margin=1in -V fontsize:11pt -o OILS515_syllabus.pdf OILS515_syllabus.md\n",
    "pandoc --toc -s --standalone --css=page2.css -o OILS515_syllabus.html OILS515_syllabus.md\n",
    "pandoc -s -o OILS515_syllabus.epub OILS515_syllabus.md"
   ]
  },
  {
   "cell_type": "markdown",
   "metadata": {},
   "source": [
    "The generated files:\n",
    "\n",
    "* [The PDF file](/files/PandocTraining/00-Instructor/01-HelloWorld/OILS515_syllabus.pdf)\n",
    "* [The HTML file](/files/PandocTraining/00-Instructor/01-HelloWorld/OILS515_syllabus.html)\n",
    "* [The EPub file](/files/PandocTraining/00-Instructor/01-HelloWorld/OILS515_syllabus.epub)"
   ]
  },
  {
   "cell_type": "markdown",
   "metadata": {},
   "source": [
    "### A Recently Presented Conference Poster\n",
    "\n",
    "[The source markdown file](/edit/PandocTraining/00-Instructor/01-HelloWorld/AgileCuration_2016AGUPoster/2016-12_AGUPoster.md)\n",
    "\n",
    "```bash\n",
    "cd AgileCuration_2016AGUPoster\n",
    "pandoc -s -S \\\n",
    "--normalize \\\n",
    "--filter pandoc-citeproc \\\n",
    "--csl ./science.csl \\\n",
    "--template=poster.tex \\\n",
    "-f markdown+raw_tex \\\n",
    "-o 2016-12_AGUPoster.pdf \\\n",
    "2016-12_AGUPoster.md\n",
    "```"
   ]
  },
  {
   "cell_type": "code",
   "execution_count": 77,
   "metadata": {
    "collapsed": false
   },
   "outputs": [],
   "source": [
    "%%bash\n",
    "cd AgileCuration_2016AGUPoster  # change into the directory that has all the files\n",
    "pandoc -s -S \\\n",
    "--normalize \\\n",
    "--filter pandoc-citeproc \\\n",
    "--csl ./science.csl \\\n",
    "--template=poster.tex \\\n",
    "-f markdown+raw_tex \\\n",
    "-o 2016-12_AGUPoster.pdf \\\n",
    "2016-12_AGUPoster.md\n",
    "\n",
    "pandoc -s -S \\\n",
    "--normalize \\\n",
    "--filter pandoc-citeproc \\\n",
    "--csl ./science.csl \\\n",
    "-o 2016-12_AGUPoster.html \\\n",
    "2016-12_AGUPoster.md"
   ]
  },
  {
   "cell_type": "markdown",
   "metadata": {},
   "source": [
    "The generated file:\n",
    "\n",
    "* [The PDF file](AgileCuration_2016AGUPoster/2016-12_AGUPoster.pdf)\n",
    "* [The HTML file](AgileCuration_2016AGUPoster/2016-12_AGUPoster.html)"
   ]
  },
  {
   "cell_type": "markdown",
   "metadata": {},
   "source": [
    "### A Collection of Slide Presentations\n",
    "\n",
    "[`01_DataManagement.md`](/edit/PandocTraining/00-Instructor/01-HelloWorld/GMT200_DataManagement/01_DatManagement.md)\n",
    "\n",
    "[`02_DataSecurity.md`](/edit/PandocTraining/00-Instructor/01-HelloWorld/GMT200_DataManagement/01_DataSecurity.md)\n",
    "\n",
    "[`03_DataManagementPlanning.md`](/edit/PandocTraining/00-Instructor/01-HelloWorld/GMT200_DataManagement/01_DataManagementPlanning.md)\n",
    "\n",
    "Commands to generate each of the slide shows:\n",
    "\n",
    "```\n",
    "pandoc --section-divs --slide-level 3 -c lobo_slides.css  --standalone -t dzslides -o 01_DataManagement.slides.html 01_DataManagement.md\n",
    "\n",
    "pandoc --section-divs --slide-level 3 -c lobo_slides.css  --standalone -t dzslides -o 02_DataSecurity.slides.html 02_DataSecurity.md\n",
    "\n",
    "pandoc --section-divs --slide-level 3 -c lobo_slides.css  --standalone -t dzslides -o 03_DataManagementPlanning.slides.html 03_DataManagementPlanning.md\n",
    "```\n",
    "\n",
    "Commands to generate the corresponding PDF files:\n",
    "\n",
    "```\n",
    "pandoc --template=default.latex --latex-engine=xelatex --self-contained --standalone -o 01_DataManagement.pdf 01_DataManagement.md\n",
    "\n",
    "pandoc --template=default.latex --latex-engine=xelatex --self-contained --standalone -o 02_DataSecurity.pdf 02_DataSecurity.md\n",
    "\n",
    "pandoc --template=default.latex --latex-engine=xelatex --self-contained --standalone -o 03_DataManagementPlanning.pdf 03_DataManagementPlanning.md\n",
    "```"
   ]
  },
  {
   "cell_type": "code",
   "execution_count": 85,
   "metadata": {
    "collapsed": false
   },
   "outputs": [],
   "source": [
    "%%bash\n",
    "cd GMT200_DataManagement\n",
    "pandoc --section-divs --slide-level 3 -c lobo_slides.css  --standalone -t dzslides -o 01_DataManagement.slides.html 01_DataManagement.md\n",
    "pandoc --section-divs --slide-level 3 -c lobo_slides.css  --standalone -t dzslides -o 02_DataSecurity.slides.html 02_DataSecurity.md\n",
    "pandoc --section-divs --slide-level 3 -c lobo_slides.css  --standalone -t dzslides -o 03_DataManagementPlanning.slides.html 03_DataManagementPlanning.md\n",
    "pandoc --template=default.latex --latex-engine=xelatex --self-contained --standalone -o 01_DataManagement.pdf 01_DataManagement.md\n",
    "pandoc --template=default.latex --latex-engine=xelatex --self-contained --standalone -o 02_DataSecurity.pdf 02_DataSecurity.md\n",
    "pandoc --template=default.latex --latex-engine=xelatex --self-contained --standalone -o 03_DataManagementPlanning.pdf 03_DataManagementPlanning.md"
   ]
  },
  {
   "cell_type": "markdown",
   "metadata": {},
   "source": [
    "[All the files related to this example](/tree/PandocTraining/00-Instructor/01-HelloWorld/GMT200_DataManagement)"
   ]
  },
  {
   "cell_type": "markdown",
   "metadata": {},
   "source": [
    "---------------------------------------\n",
    "[NEXT - Pandoc Markdown Syntax](/notebooks/PandocTraining/00-Instructor/02-Syntax/02%20-%20Pandoc%20Mardown%20Syntax.ipynb)"
   ]
  },
  {
   "cell_type": "code",
   "execution_count": null,
   "metadata": {
    "collapsed": true
   },
   "outputs": [],
   "source": []
  }
 ],
 "metadata": {
  "kernelspec": {
   "display_name": "Python 3",
   "language": "python",
   "name": "python3"
  },
  "language_info": {
   "codemirror_mode": {
    "name": "ipython",
    "version": 3
   },
   "file_extension": ".py",
   "mimetype": "text/x-python",
   "name": "python",
   "nbconvert_exporter": "python",
   "pygments_lexer": "ipython3",
   "version": "3.5.2"
  }
 },
 "nbformat": 4,
 "nbformat_minor": 1
}
